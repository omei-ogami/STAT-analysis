{
 "cells": [
  {
   "cell_type": "markdown",
   "metadata": {},
   "source": [
    "# Part 3 - Linear Regression\n",
    "\n",
    "In this notebook, we will perform linear regression on a dataset we've just created in EDA. The objective is to build an appropriate linear regression model to tell that which hyperparameters are most important in helping the performance of the model.\n",
    "\n",
    "- Stepwise regression\n",
    "  \n",
    "- Model evaluation \n",
    "- Model interpretation\n",
    "\n",
    "> **Note**: this notebook uses R kernel to perform linear regression. If you don't have R kernel for Jupyter, you can just copy and paste the code into R console."
   ]
  },
  {
   "cell_type": "code",
   "execution_count": 40,
   "metadata": {
    "vscode": {
     "languageId": "r"
    }
   },
   "outputs": [
    {
     "data": {
      "text/html": [
       "<table class=\"dataframe\">\n",
       "<caption>A data.frame: 5 × 20</caption>\n",
       "<thead>\n",
       "\t<tr><th></th><th scope=col>X</th><th scope=col>learning_rate</th><th scope=col>n_estimators</th><th scope=col>max_depth</th><th scope=col>min_child_weight</th><th scope=col>subsample</th><th scope=col>gamma</th><th scope=col>alpha</th><th scope=col>lambda</th><th scope=col>colsample_bytree</th><th scope=col>scale_pos_weight</th><th scope=col>F1</th><th scope=col>learning_rate_n_estimators</th><th scope=col>learning_rate_max_depth</th><th scope=col>n_estimators_max_depth</th><th scope=col>max_depth_subsample</th><th scope=col>alpha_lambda</th><th scope=col>max_depth_min_child_weight</th><th scope=col>scale_pos_weight_max_depth</th><th scope=col>max_depth_colsample_bytree</th></tr>\n",
       "\t<tr><th></th><th scope=col>&lt;int&gt;</th><th scope=col>&lt;dbl&gt;</th><th scope=col>&lt;int&gt;</th><th scope=col>&lt;int&gt;</th><th scope=col>&lt;int&gt;</th><th scope=col>&lt;dbl&gt;</th><th scope=col>&lt;dbl&gt;</th><th scope=col>&lt;dbl&gt;</th><th scope=col>&lt;dbl&gt;</th><th scope=col>&lt;dbl&gt;</th><th scope=col>&lt;int&gt;</th><th scope=col>&lt;dbl&gt;</th><th scope=col>&lt;dbl&gt;</th><th scope=col>&lt;dbl&gt;</th><th scope=col>&lt;int&gt;</th><th scope=col>&lt;dbl&gt;</th><th scope=col>&lt;dbl&gt;</th><th scope=col>&lt;int&gt;</th><th scope=col>&lt;int&gt;</th><th scope=col>&lt;dbl&gt;</th></tr>\n",
       "</thead>\n",
       "<tbody>\n",
       "\t<tr><th scope=row>1</th><td>0</td><td>0.11861663</td><td>915</td><td>9</td><td>5</td><td>0.9216662</td><td>0.30814537</td><td>0.6040050</td><td>0.5648192</td><td>0.9611604</td><td>3</td><td>0.8080999</td><td>108.53422</td><td>1.0675497</td><td>8235</td><td>8.294996</td><td>0.3411536</td><td>45</td><td>27</td><td>8.650444</td></tr>\n",
       "\t<tr><th scope=row>2</th><td>1</td><td>0.28570715</td><td>549</td><td>4</td><td>1</td><td>0.9465693</td><td>0.02243028</td><td>0.8713336</td><td>0.3392034</td><td>0.9257677</td><td>1</td><td>0.8185859</td><td>156.85322</td><td>1.1428286</td><td>2196</td><td>3.786277</td><td>0.2955593</td><td> 4</td><td> 4</td><td>3.703071</td></tr>\n",
       "\t<tr><th scope=row>3</th><td>2</td><td>0.22227824</td><td>553</td><td>7</td><td>5</td><td>0.6238469</td><td>0.31127350</td><td>0.9989047</td><td>0.3226837</td><td>0.7836637</td><td>2</td><td>0.8047893</td><td>122.91987</td><td>1.5559477</td><td>3871</td><td>4.366929</td><td>0.3223303</td><td>35</td><td>14</td><td>5.485646</td></tr>\n",
       "\t<tr><th scope=row>4</th><td>3</td><td>0.18361096</td><td>728</td><td>7</td><td>2</td><td>0.8768202</td><td>0.15445886</td><td>0.6077628</td><td>0.6449063</td><td>0.7007154</td><td>3</td><td>0.8044808</td><td>133.66878</td><td>1.2852767</td><td>5096</td><td>6.137742</td><td>0.3919501</td><td>14</td><td>21</td><td>4.905008</td></tr>\n",
       "\t<tr><th scope=row>5</th><td>4</td><td>0.05524541</td><td>320</td><td>8</td><td>5</td><td>0.6559950</td><td>0.18436258</td><td>0.4047059</td><td>0.8514844</td><td>0.7481281</td><td>4</td><td>0.8071021</td><td> 17.67853</td><td>0.4419632</td><td>2560</td><td>5.247960</td><td>0.3446008</td><td>40</td><td>32</td><td>5.985025</td></tr>\n",
       "</tbody>\n",
       "</table>\n"
      ],
      "text/latex": [
       "A data.frame: 5 × 20\n",
       "\\begin{tabular}{r|llllllllllllllllllll}\n",
       "  & X & learning\\_rate & n\\_estimators & max\\_depth & min\\_child\\_weight & subsample & gamma & alpha & lambda & colsample\\_bytree & scale\\_pos\\_weight & F1 & learning\\_rate\\_n\\_estimators & learning\\_rate\\_max\\_depth & n\\_estimators\\_max\\_depth & max\\_depth\\_subsample & alpha\\_lambda & max\\_depth\\_min\\_child\\_weight & scale\\_pos\\_weight\\_max\\_depth & max\\_depth\\_colsample\\_bytree\\\\\n",
       "  & <int> & <dbl> & <int> & <int> & <int> & <dbl> & <dbl> & <dbl> & <dbl> & <dbl> & <int> & <dbl> & <dbl> & <dbl> & <int> & <dbl> & <dbl> & <int> & <int> & <dbl>\\\\\n",
       "\\hline\n",
       "\t1 & 0 & 0.11861663 & 915 & 9 & 5 & 0.9216662 & 0.30814537 & 0.6040050 & 0.5648192 & 0.9611604 & 3 & 0.8080999 & 108.53422 & 1.0675497 & 8235 & 8.294996 & 0.3411536 & 45 & 27 & 8.650444\\\\\n",
       "\t2 & 1 & 0.28570715 & 549 & 4 & 1 & 0.9465693 & 0.02243028 & 0.8713336 & 0.3392034 & 0.9257677 & 1 & 0.8185859 & 156.85322 & 1.1428286 & 2196 & 3.786277 & 0.2955593 &  4 &  4 & 3.703071\\\\\n",
       "\t3 & 2 & 0.22227824 & 553 & 7 & 5 & 0.6238469 & 0.31127350 & 0.9989047 & 0.3226837 & 0.7836637 & 2 & 0.8047893 & 122.91987 & 1.5559477 & 3871 & 4.366929 & 0.3223303 & 35 & 14 & 5.485646\\\\\n",
       "\t4 & 3 & 0.18361096 & 728 & 7 & 2 & 0.8768202 & 0.15445886 & 0.6077628 & 0.6449063 & 0.7007154 & 3 & 0.8044808 & 133.66878 & 1.2852767 & 5096 & 6.137742 & 0.3919501 & 14 & 21 & 4.905008\\\\\n",
       "\t5 & 4 & 0.05524541 & 320 & 8 & 5 & 0.6559950 & 0.18436258 & 0.4047059 & 0.8514844 & 0.7481281 & 4 & 0.8071021 &  17.67853 & 0.4419632 & 2560 & 5.247960 & 0.3446008 & 40 & 32 & 5.985025\\\\\n",
       "\\end{tabular}\n"
      ],
      "text/markdown": [
       "\n",
       "A data.frame: 5 × 20\n",
       "\n",
       "| <!--/--> | X &lt;int&gt; | learning_rate &lt;dbl&gt; | n_estimators &lt;int&gt; | max_depth &lt;int&gt; | min_child_weight &lt;int&gt; | subsample &lt;dbl&gt; | gamma &lt;dbl&gt; | alpha &lt;dbl&gt; | lambda &lt;dbl&gt; | colsample_bytree &lt;dbl&gt; | scale_pos_weight &lt;int&gt; | F1 &lt;dbl&gt; | learning_rate_n_estimators &lt;dbl&gt; | learning_rate_max_depth &lt;dbl&gt; | n_estimators_max_depth &lt;int&gt; | max_depth_subsample &lt;dbl&gt; | alpha_lambda &lt;dbl&gt; | max_depth_min_child_weight &lt;int&gt; | scale_pos_weight_max_depth &lt;int&gt; | max_depth_colsample_bytree &lt;dbl&gt; |\n",
       "|---|---|---|---|---|---|---|---|---|---|---|---|---|---|---|---|---|---|---|---|---|\n",
       "| 1 | 0 | 0.11861663 | 915 | 9 | 5 | 0.9216662 | 0.30814537 | 0.6040050 | 0.5648192 | 0.9611604 | 3 | 0.8080999 | 108.53422 | 1.0675497 | 8235 | 8.294996 | 0.3411536 | 45 | 27 | 8.650444 |\n",
       "| 2 | 1 | 0.28570715 | 549 | 4 | 1 | 0.9465693 | 0.02243028 | 0.8713336 | 0.3392034 | 0.9257677 | 1 | 0.8185859 | 156.85322 | 1.1428286 | 2196 | 3.786277 | 0.2955593 |  4 |  4 | 3.703071 |\n",
       "| 3 | 2 | 0.22227824 | 553 | 7 | 5 | 0.6238469 | 0.31127350 | 0.9989047 | 0.3226837 | 0.7836637 | 2 | 0.8047893 | 122.91987 | 1.5559477 | 3871 | 4.366929 | 0.3223303 | 35 | 14 | 5.485646 |\n",
       "| 4 | 3 | 0.18361096 | 728 | 7 | 2 | 0.8768202 | 0.15445886 | 0.6077628 | 0.6449063 | 0.7007154 | 3 | 0.8044808 | 133.66878 | 1.2852767 | 5096 | 6.137742 | 0.3919501 | 14 | 21 | 4.905008 |\n",
       "| 5 | 4 | 0.05524541 | 320 | 8 | 5 | 0.6559950 | 0.18436258 | 0.4047059 | 0.8514844 | 0.7481281 | 4 | 0.8071021 |  17.67853 | 0.4419632 | 2560 | 5.247960 | 0.3446008 | 40 | 32 | 5.985025 |\n",
       "\n"
      ],
      "text/plain": [
       "  X learning_rate n_estimators max_depth min_child_weight subsample gamma     \n",
       "1 0 0.11861663    915          9         5                0.9216662 0.30814537\n",
       "2 1 0.28570715    549          4         1                0.9465693 0.02243028\n",
       "3 2 0.22227824    553          7         5                0.6238469 0.31127350\n",
       "4 3 0.18361096    728          7         2                0.8768202 0.15445886\n",
       "5 4 0.05524541    320          8         5                0.6559950 0.18436258\n",
       "  alpha     lambda    colsample_bytree scale_pos_weight F1       \n",
       "1 0.6040050 0.5648192 0.9611604        3                0.8080999\n",
       "2 0.8713336 0.3392034 0.9257677        1                0.8185859\n",
       "3 0.9989047 0.3226837 0.7836637        2                0.8047893\n",
       "4 0.6077628 0.6449063 0.7007154        3                0.8044808\n",
       "5 0.4047059 0.8514844 0.7481281        4                0.8071021\n",
       "  learning_rate_n_estimators learning_rate_max_depth n_estimators_max_depth\n",
       "1 108.53422                  1.0675497               8235                  \n",
       "2 156.85322                  1.1428286               2196                  \n",
       "3 122.91987                  1.5559477               3871                  \n",
       "4 133.66878                  1.2852767               5096                  \n",
       "5  17.67853                  0.4419632               2560                  \n",
       "  max_depth_subsample alpha_lambda max_depth_min_child_weight\n",
       "1 8.294996            0.3411536    45                        \n",
       "2 3.786277            0.2955593     4                        \n",
       "3 4.366929            0.3223303    35                        \n",
       "4 6.137742            0.3919501    14                        \n",
       "5 5.247960            0.3446008    40                        \n",
       "  scale_pos_weight_max_depth max_depth_colsample_bytree\n",
       "1 27                         8.650444                  \n",
       "2  4                         3.703071                  \n",
       "3 14                         5.485646                  \n",
       "4 21                         4.905008                  \n",
       "5 32                         5.985025                  "
      ]
     },
     "metadata": {},
     "output_type": "display_data"
    }
   ],
   "source": [
    "library(leaps)\n",
    "library(car)\n",
    "\n",
    "data <- read.csv(\"data/eda_data.csv\")\n",
    "head(data, 5)\n"
   ]
  },
  {
   "cell_type": "markdown",
   "metadata": {},
   "source": [
    "## Stepwise Regression\n",
    "\n",
    "In this section, we will use `regsubset()` function from the `leaps` package to perform stepwise regression. The `regsubset()` function takes a formula and a data frame as input and returns the best subset of variables that can be used to explain the response variable. The function uses forward selection to select the best variables, and then uses backward elimination to remove the least significant variables."
   ]
  },
  {
   "cell_type": "code",
   "execution_count": 41,
   "metadata": {
    "vscode": {
     "languageId": "r"
    }
   },
   "outputs": [
    {
     "name": "stdout",
     "output_type": "stream",
     "text": [
      "Start:  AIC=-13915.43\n",
      "F1 ~ 1\n",
      "\n",
      "                             Df Sum of Sq      RSS    AIC\n",
      "+ learning_rate_max_depth     1  0.049987 0.090159 -14575\n",
      "+ scale_pos_weight_max_depth  1  0.041680 0.098466 -14443\n",
      "+ n_estimators_max_depth      1  0.032286 0.107860 -14306\n",
      "+ max_depth                   1  0.032029 0.108118 -14303\n",
      "+ max_depth_colsample_bytree  1  0.028546 0.111600 -14255\n",
      "+ scale_pos_weight            1  0.025633 0.114513 -14216\n",
      "+ learning_rate_n_estimators  1  0.022869 0.117278 -14181\n",
      "+ max_depth_subsample         1  0.018235 0.121912 -14122\n",
      "+ learning_rate               1  0.016697 0.123449 -14104\n",
      "+ max_depth_min_child_weight  1  0.010073 0.130074 -14025\n",
      "+ n_estimators                1  0.006582 0.133565 -13986\n",
      "+ subsample                   1  0.002943 0.137204 -13945\n",
      "+ gamma                       1  0.001561 0.138585 -13930\n",
      "+ alpha                       1  0.000448 0.139699 -13918\n",
      "<none>                                    0.140146 -13915\n",
      "+ alpha_lambda                1  0.000103 0.140043 -13914\n",
      "+ colsample_bytree            1  0.000078 0.140068 -13914\n",
      "+ X                           1  0.000039 0.140107 -13914\n",
      "+ min_child_weight            1  0.000027 0.140120 -13914\n",
      "+ lambda                      1  0.000003 0.140143 -13914\n",
      "\n",
      "Step:  AIC=-14575.1\n",
      "F1 ~ learning_rate_max_depth\n",
      "\n",
      "                             Df Sum of Sq      RSS    AIC\n",
      "+ scale_pos_weight            1  0.029242 0.060917 -15161\n",
      "+ scale_pos_weight_max_depth  1  0.024428 0.065731 -15047\n",
      "+ n_estimators_max_depth      1  0.015187 0.074972 -14850\n",
      "+ learning_rate               1  0.008153 0.082006 -14715\n",
      "+ n_estimators                1  0.006932 0.083227 -14693\n",
      "+ max_depth                   1  0.006657 0.083502 -14688\n",
      "+ max_depth_colsample_bytree  1  0.005673 0.084486 -14671\n",
      "+ subsample                   1  0.002946 0.087213 -14623\n",
      "+ max_depth_min_child_weight  1  0.001855 0.088304 -14604\n",
      "+ max_depth_subsample         1  0.001781 0.088378 -14603\n",
      "+ gamma                       1  0.001395 0.088764 -14596\n",
      "+ learning_rate_n_estimators  1  0.000767 0.089392 -14586\n",
      "+ alpha                       1  0.000521 0.089638 -14582\n",
      "<none>                                    0.090159 -14575\n",
      "+ X                           1  0.000064 0.090095 -14574\n",
      "+ alpha_lambda                1  0.000049 0.090110 -14574\n",
      "+ lambda                      1  0.000013 0.090146 -14573\n",
      "+ min_child_weight            1  0.000008 0.090151 -14573\n",
      "+ colsample_bytree            1  0.000006 0.090153 -14573\n",
      "- learning_rate_max_depth     1  0.049987 0.140146 -13915\n",
      "\n",
      "Step:  AIC=-15161.18\n",
      "F1 ~ learning_rate_max_depth + scale_pos_weight\n",
      "\n",
      "                             Df Sum of Sq      RSS    AIC\n",
      "+ n_estimators_max_depth      1  0.015053 0.045864 -15585\n",
      "+ learning_rate               1  0.008784 0.052133 -15393\n",
      "+ max_depth                   1  0.006721 0.054197 -15334\n",
      "+ n_estimators                1  0.006329 0.054589 -15324\n",
      "+ max_depth_colsample_bytree  1  0.005865 0.055053 -15311\n",
      "+ subsample                   1  0.003311 0.057606 -15243\n",
      "+ max_depth_subsample         1  0.001706 0.059212 -15202\n",
      "+ max_depth_min_child_weight  1  0.001624 0.059293 -15200\n",
      "+ gamma                       1  0.001346 0.059572 -15193\n",
      "+ scale_pos_weight_max_depth  1  0.001064 0.059854 -15186\n",
      "+ learning_rate_n_estimators  1  0.000531 0.060386 -15172\n",
      "+ alpha                       1  0.000338 0.060579 -15168\n",
      "+ alpha_lambda                1  0.000107 0.060811 -15162\n",
      "<none>                                    0.060917 -15161\n",
      "+ colsample_bytree            1  0.000032 0.060886 -15160\n",
      "+ lambda                      1  0.000024 0.060893 -15160\n",
      "+ X                           1  0.000017 0.060900 -15160\n",
      "+ min_child_weight            1  0.000006 0.060911 -15159\n",
      "- scale_pos_weight            1  0.029242 0.090159 -14575\n",
      "- learning_rate_max_depth     1  0.053596 0.114513 -14216\n",
      "\n",
      "Step:  AIC=-15584.94\n",
      "F1 ~ learning_rate_max_depth + scale_pos_weight + n_estimators_max_depth\n",
      "\n",
      "                             Df Sum of Sq      RSS    AIC\n",
      "+ subsample                   1  0.003005 0.042859 -15685\n",
      "+ learning_rate               1  0.002250 0.043614 -15658\n",
      "+ n_estimators                1  0.001077 0.044787 -15619\n",
      "+ gamma                       1  0.000941 0.044923 -15614\n",
      "+ max_depth_colsample_bytree  1  0.000777 0.045087 -15609\n",
      "+ learning_rate_n_estimators  1  0.000647 0.045217 -15604\n",
      "+ max_depth                   1  0.000645 0.045219 -15604\n",
      "+ scale_pos_weight_max_depth  1  0.000437 0.045427 -15597\n",
      "+ alpha                       1  0.000319 0.045545 -15593\n",
      "+ max_depth_subsample         1  0.000130 0.045734 -15587\n",
      "+ colsample_bytree            1  0.000123 0.045742 -15587\n",
      "+ alpha_lambda                1  0.000116 0.045748 -15587\n",
      "<none>                                    0.045864 -15585\n",
      "+ min_child_weight            1  0.000046 0.045819 -15584\n",
      "+ max_depth_min_child_weight  1  0.000028 0.045836 -15584\n",
      "+ lambda                      1  0.000025 0.045839 -15584\n",
      "+ X                           1  0.000004 0.045861 -15583\n",
      "- n_estimators_max_depth      1  0.015053 0.060917 -15161\n",
      "- scale_pos_weight            1  0.029108 0.074972 -14850\n",
      "- learning_rate_max_depth     1  0.035780 0.081645 -14722\n",
      "\n",
      "Step:  AIC=-15684.58\n",
      "F1 ~ learning_rate_max_depth + scale_pos_weight + n_estimators_max_depth + \n",
      "    subsample\n",
      "\n",
      "                             Df Sum of Sq      RSS    AIC\n",
      "+ learning_rate               1  0.002257 0.040602 -15764\n",
      "+ n_estimators                1  0.001099 0.041760 -15722\n",
      "+ gamma                       1  0.001042 0.041817 -15720\n",
      "+ max_depth_colsample_bytree  1  0.000747 0.042113 -15709\n",
      "+ max_depth                   1  0.000675 0.042184 -15706\n",
      "+ learning_rate_n_estimators  1  0.000633 0.042226 -15705\n",
      "+ scale_pos_weight_max_depth  1  0.000424 0.042436 -15698\n",
      "+ alpha                       1  0.000352 0.042507 -15695\n",
      "+ max_depth_subsample         1  0.000319 0.042540 -15694\n",
      "+ alpha_lambda                1  0.000144 0.042715 -15688\n",
      "+ colsample_bytree            1  0.000082 0.042777 -15686\n",
      "<none>                                    0.042859 -15685\n",
      "+ max_depth_min_child_weight  1  0.000048 0.042812 -15684\n",
      "+ lambda                      1  0.000031 0.042828 -15684\n",
      "+ min_child_weight            1  0.000022 0.042837 -15683\n",
      "+ X                           1  0.000003 0.042856 -15683\n",
      "- subsample                   1  0.003005 0.045864 -15585\n",
      "- n_estimators_max_depth      1  0.014747 0.057606 -15243\n",
      "- scale_pos_weight            1  0.029456 0.072315 -14902\n",
      "- learning_rate_max_depth     1  0.035926 0.078785 -14773\n",
      "\n",
      "Step:  AIC=-15763.74\n",
      "F1 ~ learning_rate_max_depth + scale_pos_weight + n_estimators_max_depth + \n",
      "    subsample + learning_rate\n",
      "\n",
      "                             Df Sum of Sq      RSS    AIC\n",
      "+ scale_pos_weight_max_depth  1 0.0052677 0.035334 -15970\n",
      "+ gamma                       1 0.0009925 0.039610 -15799\n",
      "+ max_depth_subsample         1 0.0008897 0.039712 -15795\n",
      "+ learning_rate_n_estimators  1 0.0007163 0.039886 -15788\n",
      "+ max_depth                   1 0.0003657 0.040236 -15775\n",
      "+ alpha                       1 0.0003147 0.040287 -15773\n",
      "+ max_depth_min_child_weight  1 0.0001540 0.040448 -15767\n",
      "+ alpha_lambda                1 0.0001230 0.040479 -15766\n",
      "+ colsample_bytree            1 0.0000919 0.040510 -15765\n",
      "<none>                                    0.040602 -15764\n",
      "+ max_depth_colsample_bytree  1 0.0000537 0.040548 -15764\n",
      "+ min_child_weight            1 0.0000327 0.040569 -15763\n",
      "+ lambda                      1 0.0000279 0.040574 -15763\n",
      "+ X                           1 0.0000208 0.040581 -15762\n",
      "+ n_estimators                1 0.0000004 0.040602 -15762\n",
      "- learning_rate               1 0.0022573 0.042859 -15685\n",
      "- subsample                   1 0.0030118 0.043614 -15658\n",
      "- n_estimators_max_depth      1 0.0083053 0.048907 -15487\n",
      "- learning_rate_max_depth     1 0.0198417 0.060444 -15169\n",
      "- scale_pos_weight            1 0.0298218 0.070424 -14940\n",
      "\n",
      "Step:  AIC=-15970.18\n",
      "F1 ~ learning_rate_max_depth + scale_pos_weight + n_estimators_max_depth + \n",
      "    subsample + learning_rate + scale_pos_weight_max_depth\n",
      "\n",
      "                             Df Sum of Sq      RSS    AIC\n",
      "+ max_depth                   1 0.0025804 0.032754 -16082\n",
      "+ n_estimators                1 0.0019962 0.033338 -16055\n",
      "+ max_depth_colsample_bytree  1 0.0012925 0.034042 -16024\n",
      "+ max_depth_subsample         1 0.0009813 0.034353 -16010\n",
      "+ gamma                       1 0.0008735 0.034461 -16006\n",
      "+ alpha                       1 0.0002708 0.035064 -15980\n",
      "+ alpha_lambda                1 0.0001371 0.035197 -15974\n",
      "+ colsample_bytree            1 0.0000975 0.035237 -15972\n",
      "+ max_depth_min_child_weight  1 0.0000673 0.035267 -15971\n",
      "<none>                                    0.035334 -15970\n",
      "+ learning_rate_n_estimators  1 0.0000325 0.035302 -15970\n",
      "+ lambda                      1 0.0000274 0.035307 -15969\n",
      "+ X                           1 0.0000135 0.035321 -15969\n",
      "+ min_child_weight            1 0.0000034 0.035331 -15968\n",
      "- subsample                   1 0.0029570 0.038291 -15852\n",
      "- scale_pos_weight_max_depth  1 0.0052677 0.040602 -15764\n",
      "- learning_rate               1 0.0071013 0.042436 -15698\n",
      "- n_estimators_max_depth      1 0.0106634 0.045998 -15577\n",
      "- scale_pos_weight            1 0.0200255 0.055360 -15299\n",
      "- learning_rate_max_depth     1 0.0223626 0.057697 -15237\n",
      "\n",
      "Step:  AIC=-16081.93\n",
      "F1 ~ learning_rate_max_depth + scale_pos_weight + n_estimators_max_depth + \n",
      "    subsample + learning_rate + scale_pos_weight_max_depth + \n",
      "    max_depth\n",
      "\n",
      "                             Df Sum of Sq      RSS    AIC\n",
      "+ max_depth_subsample         1 0.0012563 0.031498 -16139\n",
      "+ gamma                       1 0.0008608 0.031893 -16120\n",
      "+ n_estimators                1 0.0004594 0.032294 -16101\n",
      "+ learning_rate_n_estimators  1 0.0003998 0.032354 -16098\n",
      "+ alpha                       1 0.0002158 0.032538 -16090\n",
      "+ colsample_bytree            1 0.0001214 0.032632 -16086\n",
      "+ alpha_lambda                1 0.0001046 0.032649 -16085\n",
      "+ max_depth_colsample_bytree  1 0.0000847 0.032669 -16084\n",
      "<none>                                    0.032754 -16082\n",
      "+ lambda                      1 0.0000225 0.032731 -16081\n",
      "+ X                           1 0.0000060 0.032748 -16080\n",
      "+ max_depth_min_child_weight  1 0.0000012 0.032753 -16080\n",
      "+ min_child_weight            1 0.0000002 0.032754 -16080\n",
      "- learning_rate               1 0.0017939 0.034548 -16004\n",
      "- max_depth                   1 0.0025804 0.035334 -15970\n",
      "- subsample                   1 0.0030440 0.035798 -15951\n",
      "- scale_pos_weight_max_depth  1 0.0074824 0.040236 -15775\n",
      "- n_estimators_max_depth      1 0.0079887 0.040743 -15757\n",
      "- learning_rate_max_depth     1 0.0083060 0.041060 -15745\n",
      "- scale_pos_weight            1 0.0188229 0.051577 -15403\n",
      "\n",
      "Step:  AIC=-16138.6\n",
      "F1 ~ learning_rate_max_depth + scale_pos_weight + n_estimators_max_depth + \n",
      "    subsample + learning_rate + scale_pos_weight_max_depth + \n",
      "    max_depth + max_depth_subsample\n",
      "\n",
      "                             Df Sum of Sq      RSS    AIC\n",
      "+ gamma                       1 0.0008529 0.030645 -16178\n",
      "+ learning_rate_n_estimators  1 0.0004637 0.031034 -16159\n",
      "+ n_estimators                1 0.0004546 0.031043 -16158\n",
      "+ alpha                       1 0.0001953 0.031302 -16146\n",
      "+ colsample_bytree            1 0.0001160 0.031382 -16142\n",
      "+ alpha_lambda                1 0.0000962 0.031401 -16141\n",
      "+ max_depth_colsample_bytree  1 0.0000720 0.031426 -16140\n",
      "<none>                                    0.031498 -16139\n",
      "+ lambda                      1 0.0000272 0.031470 -16138\n",
      "+ max_depth_min_child_weight  1 0.0000033 0.031494 -16137\n",
      "+ X                           1 0.0000011 0.031496 -16137\n",
      "+ min_child_weight            1 0.0000003 0.031497 -16137\n",
      "- subsample                   1 0.0002584 0.031756 -16128\n",
      "- max_depth_subsample         1 0.0012563 0.032754 -16082\n",
      "- learning_rate               1 0.0016622 0.033160 -16064\n",
      "- max_depth                   1 0.0028554 0.034353 -16010\n",
      "- scale_pos_weight_max_depth  1 0.0071888 0.038686 -15832\n",
      "- n_estimators_max_depth      1 0.0079066 0.039404 -15805\n",
      "- learning_rate_max_depth     1 0.0079702 0.039468 -15802\n",
      "- scale_pos_weight            1 0.0183374 0.049835 -15452\n",
      "\n",
      "Step:  AIC=-16177.77\n",
      "F1 ~ learning_rate_max_depth + scale_pos_weight + n_estimators_max_depth + \n",
      "    subsample + learning_rate + scale_pos_weight_max_depth + \n",
      "    max_depth + max_depth_subsample + gamma\n",
      "\n",
      "                             Df Sum of Sq      RSS    AIC\n",
      "+ n_estimators                1 0.0004779 0.030167 -16199\n",
      "+ learning_rate_n_estimators  1 0.0004134 0.030231 -16196\n",
      "+ alpha                       1 0.0001699 0.030475 -16184\n",
      "+ colsample_bytree            1 0.0001387 0.030506 -16183\n",
      "+ max_depth_colsample_bytree  1 0.0000921 0.030553 -16180\n",
      "+ alpha_lambda                1 0.0000835 0.030561 -16180\n",
      "<none>                                    0.030645 -16178\n",
      "+ lambda                      1 0.0000298 0.030615 -16177\n",
      "+ max_depth_min_child_weight  1 0.0000052 0.030640 -16176\n",
      "+ min_child_weight            1 0.0000007 0.030644 -16176\n",
      "+ X                           1 0.0000002 0.030645 -16176\n",
      "- subsample                   1 0.0002465 0.030891 -16168\n",
      "- gamma                       1 0.0008529 0.031498 -16139\n",
      "- max_depth_subsample         1 0.0012484 0.031893 -16120\n",
      "- learning_rate               1 0.0016073 0.032252 -16103\n",
      "- max_depth                   1 0.0028390 0.033484 -16047\n",
      "- scale_pos_weight_max_depth  1 0.0070811 0.037726 -15868\n",
      "- n_estimators_max_depth      1 0.0076815 0.038326 -15844\n",
      "- learning_rate_max_depth     1 0.0078648 0.038509 -15837\n",
      "- scale_pos_weight            1 0.0181608 0.048805 -15482\n",
      "\n",
      "Step:  AIC=-16199.35\n",
      "F1 ~ learning_rate_max_depth + scale_pos_weight + n_estimators_max_depth + \n",
      "    subsample + learning_rate + scale_pos_weight_max_depth + \n",
      "    max_depth + max_depth_subsample + gamma + n_estimators\n",
      "\n",
      "                             Df Sum of Sq      RSS    AIC\n",
      "+ learning_rate_n_estimators  1 0.0013489 0.028818 -16266\n",
      "+ alpha                       1 0.0001601 0.030007 -16205\n",
      "+ colsample_bytree            1 0.0001318 0.030035 -16204\n",
      "+ max_depth_colsample_bytree  1 0.0000926 0.030074 -16202\n",
      "+ alpha_lambda                1 0.0000789 0.030088 -16201\n",
      "<none>                                    0.030167 -16199\n",
      "+ lambda                      1 0.0000280 0.030139 -16199\n",
      "+ max_depth_min_child_weight  1 0.0000077 0.030159 -16198\n",
      "+ min_child_weight            1 0.0000017 0.030165 -16197\n",
      "+ X                           1 0.0000009 0.030166 -16197\n",
      "- subsample                   1 0.0002453 0.030412 -16189\n",
      "- n_estimators                1 0.0004779 0.030645 -16178\n",
      "- gamma                       1 0.0008763 0.031043 -16158\n",
      "- max_depth_subsample         1 0.0012434 0.031410 -16141\n",
      "- learning_rate               1 0.0015108 0.031678 -16128\n",
      "- max_depth                   1 0.0021317 0.032298 -16099\n",
      "- n_estimators_max_depth      1 0.0023352 0.032502 -16090\n",
      "- scale_pos_weight_max_depth  1 0.0071908 0.037358 -15881\n",
      "- learning_rate_max_depth     1 0.0076348 0.037802 -15863\n",
      "- scale_pos_weight            1 0.0183969 0.048564 -15487\n",
      "\n",
      "Step:  AIC=-16265.97\n",
      "F1 ~ learning_rate_max_depth + scale_pos_weight + n_estimators_max_depth + \n",
      "    subsample + learning_rate + scale_pos_weight_max_depth + \n",
      "    max_depth + max_depth_subsample + gamma + n_estimators + \n",
      "    learning_rate_n_estimators\n",
      "\n",
      "                             Df Sum of Sq      RSS    AIC\n",
      "+ alpha                       1 0.0001594 0.028658 -16272\n",
      "+ colsample_bytree            1 0.0001107 0.028707 -16270\n",
      "+ alpha_lambda                1 0.0000869 0.028731 -16268\n",
      "+ max_depth_colsample_bytree  1 0.0000730 0.028745 -16268\n",
      "+ lambda                      1 0.0000392 0.028779 -16266\n",
      "<none>                                    0.028818 -16266\n",
      "+ max_depth_min_child_weight  1 0.0000027 0.028815 -16264\n",
      "+ min_child_weight            1 0.0000003 0.028818 -16264\n",
      "+ X                           1 0.0000000 0.028818 -16264\n",
      "- subsample                   1 0.0002933 0.029111 -16253\n",
      "- gamma                       1 0.0007952 0.029613 -16227\n",
      "- learning_rate_n_estimators  1 0.0013489 0.030167 -16199\n",
      "- max_depth_subsample         1 0.0013683 0.030186 -16198\n",
      "- n_estimators                1 0.0014134 0.030231 -16196\n",
      "- max_depth                   1 0.0022217 0.031040 -16157\n",
      "- n_estimators_max_depth      1 0.0024117 0.031230 -16147\n",
      "- learning_rate               1 0.0028263 0.031644 -16128\n",
      "- scale_pos_weight_max_depth  1 0.0072179 0.036036 -15933\n",
      "- learning_rate_max_depth     1 0.0079322 0.036750 -15903\n",
      "- scale_pos_weight            1 0.0184389 0.047257 -15526\n",
      "\n",
      "Step:  AIC=-16272.29\n",
      "F1 ~ learning_rate_max_depth + scale_pos_weight + n_estimators_max_depth + \n",
      "    subsample + learning_rate + scale_pos_weight_max_depth + \n",
      "    max_depth + max_depth_subsample + gamma + n_estimators + \n",
      "    learning_rate_n_estimators + alpha\n",
      "\n",
      "                             Df Sum of Sq      RSS    AIC\n",
      "+ colsample_bytree            1 0.0001090 0.028549 -16276\n",
      "+ max_depth_colsample_bytree  1 0.0000714 0.028587 -16274\n",
      "<none>                                    0.028658 -16272\n",
      "+ lambda                      1 0.0000284 0.028630 -16272\n",
      "+ max_depth_min_child_weight  1 0.0000020 0.028656 -16270\n",
      "+ alpha_lambda                1 0.0000009 0.028658 -16270\n",
      "+ min_child_weight            1 0.0000002 0.028658 -16270\n",
      "+ X                           1 0.0000000 0.028658 -16270\n",
      "- alpha                       1 0.0001594 0.028818 -16266\n",
      "- subsample                   1 0.0002828 0.028941 -16260\n",
      "- gamma                       1 0.0007713 0.029430 -16234\n",
      "- learning_rate_n_estimators  1 0.0013482 0.030007 -16205\n",
      "- max_depth_subsample         1 0.0013490 0.030007 -16205\n",
      "- n_estimators                1 0.0013984 0.030057 -16203\n",
      "- max_depth                   1 0.0021874 0.030846 -16164\n",
      "- n_estimators_max_depth      1 0.0023947 0.031053 -16154\n",
      "- learning_rate               1 0.0028240 0.031482 -16133\n",
      "- scale_pos_weight_max_depth  1 0.0071299 0.035788 -15941\n",
      "- learning_rate_max_depth     1 0.0079422 0.036601 -15907\n",
      "- scale_pos_weight            1 0.0182571 0.046916 -15535\n",
      "\n",
      "Step:  AIC=-16276.01\n",
      "F1 ~ learning_rate_max_depth + scale_pos_weight + n_estimators_max_depth + \n",
      "    subsample + learning_rate + scale_pos_weight_max_depth + \n",
      "    max_depth + max_depth_subsample + gamma + n_estimators + \n",
      "    learning_rate_n_estimators + alpha + colsample_bytree\n",
      "\n",
      "                             Df Sum of Sq      RSS    AIC\n",
      "<none>                                    0.028549 -16276\n",
      "+ lambda                      1 0.0000265 0.028523 -16275\n",
      "+ max_depth_colsample_bytree  1 0.0000212 0.028528 -16275\n",
      "+ max_depth_min_child_weight  1 0.0000021 0.028547 -16274\n",
      "+ alpha_lambda                1 0.0000007 0.028549 -16274\n",
      "+ min_child_weight            1 0.0000003 0.028549 -16274\n",
      "+ X                           1 0.0000001 0.028549 -16274\n",
      "- colsample_bytree            1 0.0001090 0.028658 -16272\n",
      "- alpha                       1 0.0001577 0.028707 -16270\n",
      "- subsample                   1 0.0002841 0.028834 -16263\n",
      "- gamma                       1 0.0007909 0.029340 -16237\n",
      "- learning_rate_n_estimators  1 0.0013273 0.029877 -16210\n",
      "- max_depth_subsample         1 0.0013426 0.029892 -16209\n",
      "- n_estimators                1 0.0013780 0.029927 -16207\n",
      "- max_depth                   1 0.0021929 0.030742 -16167\n",
      "- n_estimators_max_depth      1 0.0023903 0.030940 -16157\n",
      "- learning_rate               1 0.0028026 0.031352 -16138\n",
      "- scale_pos_weight_max_depth  1 0.0071601 0.035710 -15942\n",
      "- learning_rate_max_depth     1 0.0079058 0.036455 -15911\n",
      "- scale_pos_weight            1 0.0183122 0.046862 -15535\n"
     ]
    }
   ],
   "source": [
    "null_model <- lm(F1 ~ 1, data = data)\n",
    "full_model <- lm(F1 ~ ., data = data)\n",
    "\n",
    "fit <- step(null_model,\n",
    "            scope = list(lower = null_model, upper = full_model),\n",
    "            direction = \"both\")\n"
   ]
  },
  {
   "cell_type": "code",
   "execution_count": 42,
   "metadata": {
    "vscode": {
     "languageId": "r"
    }
   },
   "outputs": [
    {
     "data": {
      "text/plain": [
       "\n",
       "Call:\n",
       "lm(formula = F1 ~ learning_rate_max_depth + scale_pos_weight + \n",
       "    n_estimators_max_depth + subsample + learning_rate + scale_pos_weight_max_depth + \n",
       "    max_depth + max_depth_subsample + gamma + n_estimators + \n",
       "    learning_rate_n_estimators + alpha + colsample_bytree, data = data)\n",
       "\n",
       "Residuals:\n",
       "       Min         1Q     Median         3Q        Max \n",
       "-0.0216425 -0.0029052 -0.0001517  0.0027557  0.0175433 \n",
       "\n",
       "Coefficients:\n",
       "                             Estimate Std. Error t value Pr(>|t|)    \n",
       "(Intercept)                 8.482e-01  2.960e-03 286.577  < 2e-16 ***\n",
       "learning_rate_max_depth    -1.348e-02  6.644e-04 -20.285  < 2e-16 ***\n",
       "scale_pos_weight           -9.883e-03  3.201e-04 -30.873  < 2e-16 ***\n",
       "n_estimators_max_depth     -2.529e-06  2.267e-07 -11.154  < 2e-16 ***\n",
       "subsample                  -1.191e-02  3.096e-03  -3.845 0.000126 ***\n",
       "learning_rate               6.240e-02  5.167e-03  12.078  < 2e-16 ***\n",
       "scale_pos_weight_max_depth  9.817e-04  5.085e-05  19.305  < 2e-16 ***\n",
       "max_depth                  -4.750e-03  4.446e-04 -10.684  < 2e-16 ***\n",
       "max_depth_subsample         4.094e-03  4.898e-04   8.360  < 2e-16 ***\n",
       "gamma                       5.061e-03  7.888e-04   6.416 1.88e-10 ***\n",
       "n_estimators                1.410e-05  1.665e-06   8.469  < 2e-16 ***\n",
       "learning_rate_n_estimators -4.401e-05  5.295e-06  -8.312  < 2e-16 ***\n",
       "alpha                       1.142e-03  3.986e-04   2.865 0.004227 ** \n",
       "colsample_bytree           -2.328e-03  9.772e-04  -2.382 0.017341 *  \n",
       "---\n",
       "Signif. codes:  0 '***' 0.001 '**' 0.01 '*' 0.05 '.' 0.1 ' ' 1\n",
       "\n",
       "Residual standard error: 0.004383 on 1486 degrees of freedom\n",
       "Multiple R-squared:  0.7963,\tAdjusted R-squared:  0.7945 \n",
       "F-statistic: 446.8 on 13 and 1486 DF,  p-value: < 2.2e-16\n"
      ]
     },
     "metadata": {},
     "output_type": "display_data"
    }
   ],
   "source": [
    "summary(fit)"
   ]
  },
  {
   "cell_type": "markdown",
   "metadata": {},
   "source": [
    "Remove alpha and colsample_bytree from the model."
   ]
  },
  {
   "cell_type": "code",
   "execution_count": 43,
   "metadata": {
    "vscode": {
     "languageId": "r"
    }
   },
   "outputs": [
    {
     "data": {
      "text/plain": [
       "\n",
       "Call:\n",
       "lm(formula = F1 ~ learning_rate_max_depth + scale_pos_weight + \n",
       "    n_estimators_max_depth + subsample + learning_rate + scale_pos_weight_max_depth + \n",
       "    max_depth + max_depth_subsample + gamma + n_estimators + \n",
       "    learning_rate_n_estimators, data = data)\n",
       "\n",
       "Residuals:\n",
       "       Min         1Q     Median         3Q        Max \n",
       "-0.0213121 -0.0029127 -0.0002222  0.0026765  0.0183220 \n",
       "\n",
       "Coefficients:\n",
       "                             Estimate Std. Error t value Pr(>|t|)    \n",
       "(Intercept)                 8.470e-01  2.837e-03 298.520  < 2e-16 ***\n",
       "learning_rate_max_depth    -1.350e-02  6.670e-04 -20.238  < 2e-16 ***\n",
       "scale_pos_weight           -9.905e-03  3.210e-04 -30.856  < 2e-16 ***\n",
       "n_estimators_max_depth     -2.540e-06  2.276e-07 -11.159  < 2e-16 ***\n",
       "subsample                  -1.209e-02  3.108e-03  -3.891 0.000104 ***\n",
       "learning_rate               6.266e-02  5.186e-03  12.080  < 2e-16 ***\n",
       "scale_pos_weight_max_depth  9.848e-04  5.101e-05  19.305  < 2e-16 ***\n",
       "max_depth                  -4.779e-03  4.462e-04 -10.711  < 2e-16 ***\n",
       "max_depth_subsample         4.132e-03  4.916e-04   8.406  < 2e-16 ***\n",
       "gamma                       5.069e-03  7.911e-04   6.408 1.98e-10 ***\n",
       "n_estimators                1.427e-05  1.671e-06   8.543  < 2e-16 ***\n",
       "learning_rate_n_estimators -4.435e-05  5.314e-06  -8.346  < 2e-16 ***\n",
       "---\n",
       "Signif. codes:  0 '***' 0.001 '**' 0.01 '*' 0.05 '.' 0.1 ' ' 1\n",
       "\n",
       "Residual standard error: 0.004401 on 1488 degrees of freedom\n",
       "Multiple R-squared:  0.7944,\tAdjusted R-squared:  0.7929 \n",
       "F-statistic: 522.6 on 11 and 1488 DF,  p-value: < 2.2e-16\n"
      ]
     },
     "metadata": {},
     "output_type": "display_data"
    }
   ],
   "source": [
    "fit <- lm(formula = F1 ~ learning_rate_max_depth + scale_pos_weight + \n",
    "    n_estimators_max_depth + subsample + learning_rate + scale_pos_weight_max_depth + \n",
    "    max_depth + max_depth_subsample + gamma + n_estimators + \n",
    "    learning_rate_n_estimators, data = data)\n",
    "\n",
    "summary(fit)"
   ]
  },
  {
   "cell_type": "code",
   "execution_count": 44,
   "metadata": {
    "vscode": {
     "languageId": "r"
    }
   },
   "outputs": [
    {
     "data": {
      "text/html": [
       "<table class=\"dataframe\">\n",
       "<caption>A data.frame: 11 × 1</caption>\n",
       "<thead>\n",
       "\t<tr><th></th><th scope=col>VIF</th></tr>\n",
       "\t<tr><th></th><th scope=col>&lt;dbl&gt;</th></tr>\n",
       "</thead>\n",
       "<tbody>\n",
       "\t<tr><th scope=row>learning_rate_max_depth</th><td>12.53</td></tr>\n",
       "\t<tr><th scope=row>scale_pos_weight</th><td> 9.91</td></tr>\n",
       "\t<tr><th scope=row>n_estimators_max_depth</th><td>14.39</td></tr>\n",
       "\t<tr><th scope=row>subsample</th><td> 9.93</td></tr>\n",
       "\t<tr><th scope=row>learning_rate</th><td>15.14</td></tr>\n",
       "\t<tr><th scope=row>scale_pos_weight_max_depth</th><td>14.64</td></tr>\n",
       "\t<tr><th scope=row>max_depth</th><td>61.19</td></tr>\n",
       "\t<tr><th scope=row>max_depth_subsample</th><td>57.43</td></tr>\n",
       "\t<tr><th scope=row>gamma</th><td> 1.01</td></tr>\n",
       "\t<tr><th scope=row>n_estimators</th><td>13.80</td></tr>\n",
       "\t<tr><th scope=row>learning_rate_n_estimators</th><td> 9.38</td></tr>\n",
       "</tbody>\n",
       "</table>\n"
      ],
      "text/latex": [
       "A data.frame: 11 × 1\n",
       "\\begin{tabular}{r|l}\n",
       "  & VIF\\\\\n",
       "  & <dbl>\\\\\n",
       "\\hline\n",
       "\tlearning\\_rate\\_max\\_depth & 12.53\\\\\n",
       "\tscale\\_pos\\_weight &  9.91\\\\\n",
       "\tn\\_estimators\\_max\\_depth & 14.39\\\\\n",
       "\tsubsample &  9.93\\\\\n",
       "\tlearning\\_rate & 15.14\\\\\n",
       "\tscale\\_pos\\_weight\\_max\\_depth & 14.64\\\\\n",
       "\tmax\\_depth & 61.19\\\\\n",
       "\tmax\\_depth\\_subsample & 57.43\\\\\n",
       "\tgamma &  1.01\\\\\n",
       "\tn\\_estimators & 13.80\\\\\n",
       "\tlearning\\_rate\\_n\\_estimators &  9.38\\\\\n",
       "\\end{tabular}\n"
      ],
      "text/markdown": [
       "\n",
       "A data.frame: 11 × 1\n",
       "\n",
       "| <!--/--> | VIF &lt;dbl&gt; |\n",
       "|---|---|\n",
       "| learning_rate_max_depth | 12.53 |\n",
       "| scale_pos_weight |  9.91 |\n",
       "| n_estimators_max_depth | 14.39 |\n",
       "| subsample |  9.93 |\n",
       "| learning_rate | 15.14 |\n",
       "| scale_pos_weight_max_depth | 14.64 |\n",
       "| max_depth | 61.19 |\n",
       "| max_depth_subsample | 57.43 |\n",
       "| gamma |  1.01 |\n",
       "| n_estimators | 13.80 |\n",
       "| learning_rate_n_estimators |  9.38 |\n",
       "\n"
      ],
      "text/plain": [
       "                           VIF  \n",
       "learning_rate_max_depth    12.53\n",
       "scale_pos_weight            9.91\n",
       "n_estimators_max_depth     14.39\n",
       "subsample                   9.93\n",
       "learning_rate              15.14\n",
       "scale_pos_weight_max_depth 14.64\n",
       "max_depth                  61.19\n",
       "max_depth_subsample        57.43\n",
       "gamma                       1.01\n",
       "n_estimators               13.80\n",
       "learning_rate_n_estimators  9.38"
      ]
     },
     "metadata": {},
     "output_type": "display_data"
    }
   ],
   "source": [
    "vif_result <- vif(fit)\n",
    "\n",
    "# 將VIF結果整理成data.frame\n",
    "vif_df <- data.frame(\n",
    "  Variable = names(vif_result),  # 變數名稱\n",
    "  VIF = round(vif_result, 2)     # VIF值，保留兩位小數\n",
    ")\n",
    "\n",
    "vif_df[2]"
   ]
  },
  {
   "cell_type": "markdown",
   "metadata": {},
   "source": [
    "Remove scale_pos_weight_max_depth\n"
   ]
  },
  {
   "cell_type": "code",
   "execution_count": 45,
   "metadata": {
    "vscode": {
     "languageId": "r"
    }
   },
   "outputs": [
    {
     "data": {
      "text/html": [
       "<table class=\"dataframe\">\n",
       "<caption>A data.frame: 7 × 1</caption>\n",
       "<thead>\n",
       "\t<tr><th></th><th scope=col>VIF</th></tr>\n",
       "\t<tr><th></th><th scope=col>&lt;dbl&gt;</th></tr>\n",
       "</thead>\n",
       "<tbody>\n",
       "\t<tr><th scope=row>learning_rate_max_depth</th><td>4.60</td></tr>\n",
       "\t<tr><th scope=row>scale_pos_weight</th><td>1.00</td></tr>\n",
       "\t<tr><th scope=row>subsample</th><td>1.41</td></tr>\n",
       "\t<tr><th scope=row>max_depth_subsample</th><td>2.51</td></tr>\n",
       "\t<tr><th scope=row>gamma</th><td>1.00</td></tr>\n",
       "\t<tr><th scope=row>n_estimators</th><td>3.07</td></tr>\n",
       "\t<tr><th scope=row>learning_rate_n_estimators</th><td>5.71</td></tr>\n",
       "</tbody>\n",
       "</table>\n"
      ],
      "text/latex": [
       "A data.frame: 7 × 1\n",
       "\\begin{tabular}{r|l}\n",
       "  & VIF\\\\\n",
       "  & <dbl>\\\\\n",
       "\\hline\n",
       "\tlearning\\_rate\\_max\\_depth & 4.60\\\\\n",
       "\tscale\\_pos\\_weight & 1.00\\\\\n",
       "\tsubsample & 1.41\\\\\n",
       "\tmax\\_depth\\_subsample & 2.51\\\\\n",
       "\tgamma & 1.00\\\\\n",
       "\tn\\_estimators & 3.07\\\\\n",
       "\tlearning\\_rate\\_n\\_estimators & 5.71\\\\\n",
       "\\end{tabular}\n"
      ],
      "text/markdown": [
       "\n",
       "A data.frame: 7 × 1\n",
       "\n",
       "| <!--/--> | VIF &lt;dbl&gt; |\n",
       "|---|---|\n",
       "| learning_rate_max_depth | 4.60 |\n",
       "| scale_pos_weight | 1.00 |\n",
       "| subsample | 1.41 |\n",
       "| max_depth_subsample | 2.51 |\n",
       "| gamma | 1.00 |\n",
       "| n_estimators | 3.07 |\n",
       "| learning_rate_n_estimators | 5.71 |\n",
       "\n"
      ],
      "text/plain": [
       "                           VIF \n",
       "learning_rate_max_depth    4.60\n",
       "scale_pos_weight           1.00\n",
       "subsample                  1.41\n",
       "max_depth_subsample        2.51\n",
       "gamma                      1.00\n",
       "n_estimators               3.07\n",
       "learning_rate_n_estimators 5.71"
      ]
     },
     "metadata": {},
     "output_type": "display_data"
    }
   ],
   "source": [
    "fit <- lm(formula = F1 ~ learning_rate_max_depth + scale_pos_weight +\n",
    "            subsample  + max_depth_subsample + gamma + n_estimators +\n",
    "            learning_rate_n_estimators, data = data)\n",
    "\n",
    "vif_result <- vif(fit)\n",
    "\n",
    "# 將VIF結果整理成data.frame\n",
    "vif_df <- data.frame(\n",
    "  Variable = names(vif_result),  # 變數名稱\n",
    "  VIF = round(vif_result, 2)     # VIF值，保留兩位小數\n",
    ")\n",
    "\n",
    "vif_df[2]"
   ]
  },
  {
   "cell_type": "code",
   "execution_count": 46,
   "metadata": {
    "vscode": {
     "languageId": "r"
    }
   },
   "outputs": [
    {
     "data": {
      "text/plain": [
       "\n",
       "Call:\n",
       "lm(formula = F1 ~ learning_rate_max_depth + scale_pos_weight + \n",
       "    subsample + max_depth_subsample + gamma + n_estimators + \n",
       "    learning_rate_n_estimators, data = data)\n",
       "\n",
       "Residuals:\n",
       "       Min         1Q     Median         3Q        Max \n",
       "-0.0268791 -0.0031555  0.0002673  0.0034410  0.0152459 \n",
       "\n",
       "Coefficients:\n",
       "                             Estimate Std. Error t value Pr(>|t|)    \n",
       "(Intercept)                 8.237e-01  1.218e-03 676.367  < 2e-16 ***\n",
       "learning_rate_max_depth    -8.875e-03  5.003e-04 -17.740  < 2e-16 ***\n",
       "scale_pos_weight           -3.958e-03  1.265e-04 -31.289  < 2e-16 ***\n",
       "subsample                   2.022e-02  1.448e-03  13.962  < 2e-16 ***\n",
       "max_depth_subsample        -1.264e-03  1.274e-04  -9.923  < 2e-16 ***\n",
       "gamma                       5.900e-03  9.785e-04   6.029 2.07e-09 ***\n",
       "n_estimators               -9.522e-06  9.753e-07  -9.762  < 2e-16 ***\n",
       "learning_rate_n_estimators  8.366e-06  5.132e-06   1.630    0.103    \n",
       "---\n",
       "Signif. codes:  0 '***' 0.001 '**' 0.01 '*' 0.05 '.' 0.1 ' ' 1\n",
       "\n",
       "Residual standard error: 0.00545 on 1492 degrees of freedom\n",
       "Multiple R-squared:  0.6838,\tAdjusted R-squared:  0.6823 \n",
       "F-statistic: 460.9 on 7 and 1492 DF,  p-value: < 2.2e-16\n"
      ]
     },
     "metadata": {},
     "output_type": "display_data"
    }
   ],
   "source": [
    "summary(fit)"
   ]
  },
  {
   "cell_type": "markdown",
   "metadata": {},
   "source": [
    "## Model Evaluation \n",
    "\n",
    "Next, we will evaluate the performance of the model. First let's see how well the model fits the training data and the new testing data. We will use the mean squared error (MSE) and the coefficient of determination ($R^2$). "
   ]
  },
  {
   "cell_type": "code",
   "execution_count": 47,
   "metadata": {
    "vscode": {
     "languageId": "r"
    }
   },
   "outputs": [
    {
     "data": {
      "text/html": [
       "<table class=\"dataframe\">\n",
       "<caption>A data.frame: 5 × 19</caption>\n",
       "<thead>\n",
       "\t<tr><th></th><th scope=col>learning_rate</th><th scope=col>n_estimators</th><th scope=col>max_depth</th><th scope=col>min_child_weight</th><th scope=col>subsample</th><th scope=col>gamma</th><th scope=col>alpha</th><th scope=col>lambda</th><th scope=col>colsample_bytree</th><th scope=col>scale_pos_weight</th><th scope=col>F1</th><th scope=col>learning_rate_n_estimators</th><th scope=col>learning_rate_max_depth</th><th scope=col>n_estimators_max_depth</th><th scope=col>max_depth_subsample</th><th scope=col>alpha_lambda</th><th scope=col>max_depth_min_child_weight</th><th scope=col>scale_pos_weight_max_depth</th><th scope=col>max_depth_colsample_bytree</th></tr>\n",
       "\t<tr><th></th><th scope=col>&lt;dbl&gt;</th><th scope=col>&lt;int&gt;</th><th scope=col>&lt;int&gt;</th><th scope=col>&lt;int&gt;</th><th scope=col>&lt;dbl&gt;</th><th scope=col>&lt;dbl&gt;</th><th scope=col>&lt;dbl&gt;</th><th scope=col>&lt;dbl&gt;</th><th scope=col>&lt;dbl&gt;</th><th scope=col>&lt;int&gt;</th><th scope=col>&lt;dbl&gt;</th><th scope=col>&lt;dbl&gt;</th><th scope=col>&lt;dbl&gt;</th><th scope=col>&lt;int&gt;</th><th scope=col>&lt;dbl&gt;</th><th scope=col>&lt;dbl&gt;</th><th scope=col>&lt;int&gt;</th><th scope=col>&lt;int&gt;</th><th scope=col>&lt;dbl&gt;</th></tr>\n",
       "</thead>\n",
       "<tbody>\n",
       "\t<tr><th scope=row>1</th><td>0.13093638</td><td>616</td><td>5</td><td>4</td><td>0.6264142</td><td>0.4209490</td><td>0.02417367</td><td>0.1893696</td><td>0.6329703</td><td>3</td><td>0.8138332</td><td> 80.656811</td><td>0.65468191</td><td>3080</td><td>3.132071</td><td>0.004577758</td><td>20</td><td>15</td><td>3.164852</td></tr>\n",
       "\t<tr><th scope=row>2</th><td>0.21889410</td><td>819</td><td>3</td><td>2</td><td>0.7563092</td><td>0.3194739</td><td>0.42040201</td><td>0.4098986</td><td>0.9413152</td><td>4</td><td>0.8060458</td><td>179.274270</td><td>0.65668231</td><td>2457</td><td>2.268928</td><td>0.172322199</td><td> 6</td><td>12</td><td>2.823946</td></tr>\n",
       "\t<tr><th scope=row>3</th><td>0.01003317</td><td>131</td><td>4</td><td>4</td><td>0.7868954</td><td>0.2828157</td><td>0.32368941</td><td>0.1458626</td><td>0.9665317</td><td>4</td><td>0.7787912</td><td>  1.314345</td><td>0.04013267</td><td> 524</td><td>3.147582</td><td>0.047214174</td><td>16</td><td>16</td><td>3.866127</td></tr>\n",
       "\t<tr><th scope=row>4</th><td>0.09767645</td><td>840</td><td>7</td><td>3</td><td>0.9580551</td><td>0.1535711</td><td>0.61949013</td><td>0.5623275</td><td>0.6852431</td><td>1</td><td>0.8172348</td><td> 82.048215</td><td>0.68373512</td><td>5880</td><td>6.706386</td><td>0.348356349</td><td>21</td><td> 7</td><td>4.796702</td></tr>\n",
       "\t<tr><th scope=row>5</th><td>0.05255921</td><td>176</td><td>4</td><td>1</td><td>0.6442230</td><td>0.4383885</td><td>0.85976307</td><td>0.4552318</td><td>0.7894888</td><td>4</td><td>0.8052467</td><td>  9.250421</td><td>0.21023683</td><td> 704</td><td>2.576892</td><td>0.391391505</td><td> 4</td><td>16</td><td>3.157955</td></tr>\n",
       "</tbody>\n",
       "</table>\n"
      ],
      "text/latex": [
       "A data.frame: 5 × 19\n",
       "\\begin{tabular}{r|lllllllllllllllllll}\n",
       "  & learning\\_rate & n\\_estimators & max\\_depth & min\\_child\\_weight & subsample & gamma & alpha & lambda & colsample\\_bytree & scale\\_pos\\_weight & F1 & learning\\_rate\\_n\\_estimators & learning\\_rate\\_max\\_depth & n\\_estimators\\_max\\_depth & max\\_depth\\_subsample & alpha\\_lambda & max\\_depth\\_min\\_child\\_weight & scale\\_pos\\_weight\\_max\\_depth & max\\_depth\\_colsample\\_bytree\\\\\n",
       "  & <dbl> & <int> & <int> & <int> & <dbl> & <dbl> & <dbl> & <dbl> & <dbl> & <int> & <dbl> & <dbl> & <dbl> & <int> & <dbl> & <dbl> & <int> & <int> & <dbl>\\\\\n",
       "\\hline\n",
       "\t1 & 0.13093638 & 616 & 5 & 4 & 0.6264142 & 0.4209490 & 0.02417367 & 0.1893696 & 0.6329703 & 3 & 0.8138332 &  80.656811 & 0.65468191 & 3080 & 3.132071 & 0.004577758 & 20 & 15 & 3.164852\\\\\n",
       "\t2 & 0.21889410 & 819 & 3 & 2 & 0.7563092 & 0.3194739 & 0.42040201 & 0.4098986 & 0.9413152 & 4 & 0.8060458 & 179.274270 & 0.65668231 & 2457 & 2.268928 & 0.172322199 &  6 & 12 & 2.823946\\\\\n",
       "\t3 & 0.01003317 & 131 & 4 & 4 & 0.7868954 & 0.2828157 & 0.32368941 & 0.1458626 & 0.9665317 & 4 & 0.7787912 &   1.314345 & 0.04013267 &  524 & 3.147582 & 0.047214174 & 16 & 16 & 3.866127\\\\\n",
       "\t4 & 0.09767645 & 840 & 7 & 3 & 0.9580551 & 0.1535711 & 0.61949013 & 0.5623275 & 0.6852431 & 1 & 0.8172348 &  82.048215 & 0.68373512 & 5880 & 6.706386 & 0.348356349 & 21 &  7 & 4.796702\\\\\n",
       "\t5 & 0.05255921 & 176 & 4 & 1 & 0.6442230 & 0.4383885 & 0.85976307 & 0.4552318 & 0.7894888 & 4 & 0.8052467 &   9.250421 & 0.21023683 &  704 & 2.576892 & 0.391391505 &  4 & 16 & 3.157955\\\\\n",
       "\\end{tabular}\n"
      ],
      "text/markdown": [
       "\n",
       "A data.frame: 5 × 19\n",
       "\n",
       "| <!--/--> | learning_rate &lt;dbl&gt; | n_estimators &lt;int&gt; | max_depth &lt;int&gt; | min_child_weight &lt;int&gt; | subsample &lt;dbl&gt; | gamma &lt;dbl&gt; | alpha &lt;dbl&gt; | lambda &lt;dbl&gt; | colsample_bytree &lt;dbl&gt; | scale_pos_weight &lt;int&gt; | F1 &lt;dbl&gt; | learning_rate_n_estimators &lt;dbl&gt; | learning_rate_max_depth &lt;dbl&gt; | n_estimators_max_depth &lt;int&gt; | max_depth_subsample &lt;dbl&gt; | alpha_lambda &lt;dbl&gt; | max_depth_min_child_weight &lt;int&gt; | scale_pos_weight_max_depth &lt;int&gt; | max_depth_colsample_bytree &lt;dbl&gt; |\n",
       "|---|---|---|---|---|---|---|---|---|---|---|---|---|---|---|---|---|---|---|---|\n",
       "| 1 | 0.13093638 | 616 | 5 | 4 | 0.6264142 | 0.4209490 | 0.02417367 | 0.1893696 | 0.6329703 | 3 | 0.8138332 |  80.656811 | 0.65468191 | 3080 | 3.132071 | 0.004577758 | 20 | 15 | 3.164852 |\n",
       "| 2 | 0.21889410 | 819 | 3 | 2 | 0.7563092 | 0.3194739 | 0.42040201 | 0.4098986 | 0.9413152 | 4 | 0.8060458 | 179.274270 | 0.65668231 | 2457 | 2.268928 | 0.172322199 |  6 | 12 | 2.823946 |\n",
       "| 3 | 0.01003317 | 131 | 4 | 4 | 0.7868954 | 0.2828157 | 0.32368941 | 0.1458626 | 0.9665317 | 4 | 0.7787912 |   1.314345 | 0.04013267 |  524 | 3.147582 | 0.047214174 | 16 | 16 | 3.866127 |\n",
       "| 4 | 0.09767645 | 840 | 7 | 3 | 0.9580551 | 0.1535711 | 0.61949013 | 0.5623275 | 0.6852431 | 1 | 0.8172348 |  82.048215 | 0.68373512 | 5880 | 6.706386 | 0.348356349 | 21 |  7 | 4.796702 |\n",
       "| 5 | 0.05255921 | 176 | 4 | 1 | 0.6442230 | 0.4383885 | 0.85976307 | 0.4552318 | 0.7894888 | 4 | 0.8052467 |   9.250421 | 0.21023683 |  704 | 2.576892 | 0.391391505 |  4 | 16 | 3.157955 |\n",
       "\n"
      ],
      "text/plain": [
       "  learning_rate n_estimators max_depth min_child_weight subsample gamma    \n",
       "1 0.13093638    616          5         4                0.6264142 0.4209490\n",
       "2 0.21889410    819          3         2                0.7563092 0.3194739\n",
       "3 0.01003317    131          4         4                0.7868954 0.2828157\n",
       "4 0.09767645    840          7         3                0.9580551 0.1535711\n",
       "5 0.05255921    176          4         1                0.6442230 0.4383885\n",
       "  alpha      lambda    colsample_bytree scale_pos_weight F1       \n",
       "1 0.02417367 0.1893696 0.6329703        3                0.8138332\n",
       "2 0.42040201 0.4098986 0.9413152        4                0.8060458\n",
       "3 0.32368941 0.1458626 0.9665317        4                0.7787912\n",
       "4 0.61949013 0.5623275 0.6852431        1                0.8172348\n",
       "5 0.85976307 0.4552318 0.7894888        4                0.8052467\n",
       "  learning_rate_n_estimators learning_rate_max_depth n_estimators_max_depth\n",
       "1  80.656811                 0.65468191              3080                  \n",
       "2 179.274270                 0.65668231              2457                  \n",
       "3   1.314345                 0.04013267               524                  \n",
       "4  82.048215                 0.68373512              5880                  \n",
       "5   9.250421                 0.21023683               704                  \n",
       "  max_depth_subsample alpha_lambda max_depth_min_child_weight\n",
       "1 3.132071            0.004577758  20                        \n",
       "2 2.268928            0.172322199   6                        \n",
       "3 3.147582            0.047214174  16                        \n",
       "4 6.706386            0.348356349  21                        \n",
       "5 2.576892            0.391391505   4                        \n",
       "  scale_pos_weight_max_depth max_depth_colsample_bytree\n",
       "1 15                         3.164852                  \n",
       "2 12                         2.823946                  \n",
       "3 16                         3.866127                  \n",
       "4  7                         4.796702                  \n",
       "5 16                         3.157955                  "
      ]
     },
     "metadata": {},
     "output_type": "display_data"
    }
   ],
   "source": [
    "test <- read.csv(\"data/testing_set.csv\")\n",
    "\n",
    "# Add interaction terms to the test data\n",
    "test$learning_rate_n_estimators <- test$learning_rate * test$n_estimators\n",
    "test$learning_rate_max_depth <- test$learning_rate * test$max_depth\n",
    "test$n_estimators_max_depth <- test$n_estimators * test$max_depth\n",
    "test$max_depth_subsample <- test$max_depth * test$subsample\n",
    "test$alpha_lambda <- test$alpha * test$lambda\n",
    "test$max_depth_min_child_weight <- test$max_depth * test$min_child_weight\n",
    "test$scale_pos_weight_max_depth <- test$scale_pos_weight * test$max_depth\n",
    "test$max_depth_colsample_bytree <- test$max_depth * test$colsample_bytree\n",
    "\n",
    "\n",
    "head(test, 5)\n"
   ]
  },
  {
   "cell_type": "code",
   "execution_count": 48,
   "metadata": {
    "vscode": {
     "languageId": "r"
    }
   },
   "outputs": [
    {
     "name": "stdout",
     "output_type": "stream",
     "text": [
      "Training MAE: 0.004174318 \n",
      "Training R-squared: 0.6840006 \n"
     ]
    },
    {
     "data": {
      "image/png": "[encoded data removed]",
      "text/plain": [
       "Plot with title \"Actual vs Predicted F1 Score for Training Data\""
      ]
     },
     "metadata": {
      "image/png": {
       "height": 420,
       "width": 420
      }
     },
     "output_type": "display_data"
    }
   ],
   "source": [
    "train_predict <- predict(fit, newdata = data)\n",
    "\n",
    "# MSE\n",
    "train_mse <- mean((train_predict - data$F1)^2)\n",
    "# MAE\n",
    "train_mae <- mean(abs(train_predict - data$F1))\n",
    "# R-squared\n",
    "train_r2 <- 1 - (train_mse / var(data$F1))\n",
    "\n",
    "cat(\"Training MAE:\", train_mae, \"\\n\")\n",
    "cat(\"Training R-squared:\", train_r2, \"\\n\")\n",
    "\n",
    "plot(data$F1, train_predict,\n",
    "     main = \"Actual vs Predicted F1 Score for Training Data\",\n",
    "     xlab = \"Actual F1 Score\",\n",
    "     ylab = \"Predicted F1 Score\",\n",
    "     pch = 16, col = \"blue\")\n",
    "abline(0, 1, col = \"red\", lwd = 2)\n"
   ]
  },
  {
   "cell_type": "code",
   "execution_count": 49,
   "metadata": {
    "vscode": {
     "languageId": "r"
    }
   },
   "outputs": [
    {
     "name": "stdout",
     "output_type": "stream",
     "text": [
      "Testing MAE: 0.004125044 \n",
      "Testing R-squared: 0.6656823 \n"
     ]
    },
    {
     "data": {
      "image/png": "[encoded data removed]",
      "text/plain": [
       "Plot with title \"Actual vs Predicted F1 Score for Testing Data\""
      ]
     },
     "metadata": {
      "image/png": {
       "height": 420,
       "width": 420
      }
     },
     "output_type": "display_data"
    }
   ],
   "source": [
    "test_predict <- predict(fit, newdata = test)\n",
    "\n",
    "# MSE\n",
    "test_mse <- mean((test_predict - test$F1)^2)\n",
    "# MAE\n",
    "test_mae <- mean(abs(test_predict - test$F1))\n",
    "# R-squared\n",
    "test_r2 <- 1 - (test_mse / var(test$F1))\n",
    "\n",
    "cat(\"Testing MAE:\", test_mae, \"\\n\")\n",
    "cat(\"Testing R-squared:\", test_r2, \"\\n\")\n",
    "\n",
    "plot(test$F1, test_predict,\n",
    "     main = \"Actual vs Predicted F1 Score for Testing Data\",\n",
    "     xlab = \"Actual F1 Score\",\n",
    "     ylab = \"Predicted F1 Score\",\n",
    "     pch = 16, col = \"orange\")\n",
    "abline(0, 1, col = \"red\", lwd = 2)"
   ]
  },
  {
   "cell_type": "markdown",
   "metadata": {},
   "source": [
    "### Model Assumption"
   ]
  },
  {
   "cell_type": "code",
   "execution_count": 50,
   "metadata": {
    "vscode": {
     "languageId": "r"
    }
   },
   "outputs": [
    {
     "data": {
      "image/png": "[encoded data removed]",
      "text/plain": [
       "Plot with title \"\""
      ]
     },
     "metadata": {
      "image/png": {
       "height": 420,
       "width": 420
      }
     },
     "output_type": "display_data"
    }
   ],
   "source": [
    "par(mfrow = c(2, 2))\n",
    "plot(fit)"
   ]
  },
  {
   "cell_type": "markdown",
   "metadata": {},
   "source": [
    "Remove outliers"
   ]
  },
  {
   "cell_type": "code",
   "execution_count": 51,
   "metadata": {
    "vscode": {
     "languageId": "r"
    }
   },
   "outputs": [],
   "source": [
    "leverage <- hatvalues(fit)\n",
    "high_leverage <- which(leverage > 2 * mean(leverage))\n",
    "\n",
    "data_clean <- data[-high_leverage, ]\n",
    "\n",
    "fit <- lm(formula = F1 ~ learning_rate_max_depth + scale_pos_weight +\n",
    "            subsample  + max_depth_subsample + gamma + n_estimators +\n",
    "            learning_rate_n_estimators, data = data_clean)"
   ]
  },
  {
   "cell_type": "code",
   "execution_count": 52,
   "metadata": {
    "vscode": {
     "languageId": "r"
    }
   },
   "outputs": [
    {
     "data": {
      "image/png": "[encoded data removed]",
      "text/plain": [
       "Plot with title \"\""
      ]
     },
     "metadata": {
      "image/png": {
       "height": 420,
       "width": 420
      }
     },
     "output_type": "display_data"
    }
   ],
   "source": [
    "par(mfrow = c(2, 2))\n",
    "plot(fit)"
   ]
  }
 ],
 "metadata": {
  "kernelspec": {
   "display_name": "R",
   "language": "R",
   "name": "ir"
  },
  "language_info": {
   "codemirror_mode": "r",
   "file_extension": ".r",
   "mimetype": "text/x-r-source",
   "name": "R",
   "pygments_lexer": "r",
   "version": "4.4.1"
  }
 },
 "nbformat": 4,
 "nbformat_minor": 2
}
